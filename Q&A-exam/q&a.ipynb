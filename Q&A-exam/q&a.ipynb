{
 "cells": [
  {
   "cell_type": "markdown",
   "metadata": {},
   "source": [
    "### <font color=\"orange\">Questions and Answers for the *CMfEP&DA* course</font>"
   ]
  },
  {
   "cell_type": "markdown",
   "metadata": {},
   "source": [
    "#### <font color=\"aqua\">First Module</font>\n",
    "\n",
    "1. **What’s the difference between a centralized and a distributed version-control system?** \\\n",
    "   In a CVCS there is only one server containing the repository and a full history of all files, \n",
    "   while clients (or users) can only check out a working copy of the repository (update) and then \n",
    "   load the changes to the server (commit). Istead, in a DVCS every single user computer is a server \n",
    "   with a complete copy of the repository, fully mirroring all information in it and all file history. \n",
    "   In the latter case, updating and committing involve the local repository: the developer is more free \n",
    "   to make changes, he has less merging problems and he can work even offline. Then he can simply load \n",
    "   on to the original server (push) or download the latest version on his pc (pull). \n",
    "\n",
    "2. **How do you characterize the complexity of an algorithm in big-O notation?** \\\n",
    "   Second answer...\n",
    "\n",
    "3. **What is a hash table and which purposes does it serve?**\n",
    "   An hash table, also kown as hash map, is a data structure (entity used for data organization, managment and storage) putting in corrispondence a key to a value. It is implemented through the hash function: it maps inputs in a fixed length output. It has to be deterministic, uniform in the output space (in order to avoid collisions and so differnt stuff giving the same output), fast to claculate and also hard to invert. That is particularly useful when we need to find the value linked to a particular key: without hashin, given a array of possible kyes matching the values positions in another array, we have to implement a serch algorithm in the keys array and then take the value corresonding in the other array. Instead, with an hash table we find the right value simply calculating a function. It is a tremendous save of time and it is useful for accessing quickly to a memory address or to navigate in direcion of a webste using an URL. In Python every immutable object (to modify them you have to create another object referring to another memory address) is hashable: strings, tuples and classes for example."
   ]
  },
  {
   "cell_type": "code",
   "execution_count": 2,
   "metadata": {},
   "outputs": [
    {
     "name": "stdout",
     "output_type": "stream",
     "text": [
      "3\n",
      "3\n",
      "2744355587429793369\n",
      "5549264898706894213\n"
     ]
    }
   ],
   "source": [
    "# exemples of hashing\n",
    "print(hash(3))\n",
    "print(hash(3.))\n",
    "print(hash('hello'))\n",
    "print(hash('Hello'))"
   ]
  }
 ],
 "metadata": {
  "kernelspec": {
   "display_name": "Python 3.10.7 64-bit",
   "language": "python",
   "name": "python3"
  },
  "language_info": {
   "codemirror_mode": {
    "name": "ipython",
    "version": 3
   },
   "file_extension": ".py",
   "mimetype": "text/x-python",
   "name": "python",
   "nbconvert_exporter": "python",
   "pygments_lexer": "ipython3",
   "version": "3.10.7"
  },
  "orig_nbformat": 4,
  "vscode": {
   "interpreter": {
    "hash": "107d7b120a5b68773a87d4067e673630b35702e55ebab3138143d08b1c4d7cbc"
   }
  }
 },
 "nbformat": 4,
 "nbformat_minor": 2
}
