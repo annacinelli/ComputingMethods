{
 "cells": [
  {
   "cell_type": "markdown",
   "metadata": {},
   "source": [
    "### <font color=\"orange\">Questions and Answers for the *CMfEP&DA* course</font>"
   ]
  },
  {
   "cell_type": "markdown",
   "metadata": {},
   "source": [
    "#### <font color=\"aqua\">First Module</font>\n",
    "\n",
    "1. **What’s the difference between a centralized and a distributed version-control system?** \\\n",
    "   In a CVCS there is only one server containing the repository and a full history of all files, \n",
    "   while clients (or users) can only check out a working copy of the repository (update) and then \n",
    "   load the changes to the server (commit). Istead, in a DVCS every single user computer is a server \n",
    "   with a complete copy of the repository, fully mirroring all information in it and all file history. \n",
    "   In the latter case, updating and committing involve the local repository: the developer is more free \n",
    "   to make changes, he has less merging problems and he can work even offline. Then he can simply load \n",
    "   on to the original server (push) or download the latest version on his pc (pull). \n",
    "\n",
    "2. **How do you characterize the complexity of an algorithm in big-O notation?** \\\n",
    "   Asymptotic behaviour follows three steps:\n",
    "   1. Try to figure out how many instructions does it take with a given input dimension.\n",
    "   2. Estimate the asymptotic behaviour.\n",
    "   3. Drop any the coefficients.\n",
    "   \n",
    "   In this way we are capable to find th cost of an algorithm.\n",
    "\n",
    "3. **What is a hash table and which purposes does it serve?**\n",
    "   An hash table, also kown as hash map, is a data structure (entity used for data organization, managment and storage) putting in corrispondence a key to a value. It is implemented through the hash function: it maps inputs in a fixed length output. It has to be deterministic, uniform in the output space (in order to avoid collisions and so differnt stuff giving the same output), fast to claculate and also hard to invert. That is particularly useful when we need to find the value linked to a particular key: without hashin, given a array of possible kyes matching the values positions in another array, we have to implement a serch algorithm in the keys array and then take the value corresonding in the other array. Instead, with an hash table we find the right value simply calculating a function. It is a tremendous save of time and it is useful for accessing quickly to a memory address or to navigate in direcion of a webste using an URL. In Python every immutable object (to modify them you have to create another object referring to another memory address) is hashable: strings, tuples and classes for example."
   ]
  },
  {
   "cell_type": "code",
   "execution_count": 2,
   "metadata": {},
   "outputs": [
    {
     "name": "stdout",
     "output_type": "stream",
     "text": [
      "3\n",
      "3\n",
      "2744355587429793369\n",
      "5549264898706894213\n"
     ]
    }
   ],
   "source": [
    "# exemples of hashing\n",
    "print(hash(3))\n",
    "print(hash(3.))\n",
    "print(hash('hello'))\n",
    "print(hash('Hello'))"
   ]
  },
  {
   "cell_type": "markdown",
   "metadata": {},
   "source": [
    "11. **What are the advantages (and disadvantages) of Exceptions compared to returning error codes?** \\\n",
    "    Exceptions are useful for cheching specifical problems or bugs in the code and returning meaningful and customizable error messages for the user. For example the line They are better than error codes beacuse the latter are hard to read and could anyway represent valid data for a successive piece of code or a valid input for a successive function. However, exceptions are not pefect becuse could detect only a selected kind of problem or indicate a given not satisfied condition, while error codes are useful for the analysis of a piece of code in every situation.\n",
    "\n",
    "12. **What is the main difference between Generators and Iterators?** \\\n",
    "An iterator is an object that implement a \\_\\_next__ method which is used to retrieve elements one at the time in an iterable, i.e. an object that has a \\_\\_iter__ method returning the iterator. Instead, generators are object allowing to loop over sequences of items even when they don't exist before (lazy approach of creation when needed). So one is defined through a class, the second through an expression or a function.\n",
    "\n",
    "13. **What are the basic principles of unit testing, and what does \"continuous integration\" mean?** \\\n",
    "The main idea of unit testing is to make sure that each single piece of code is correct by implementing a series of basic checks. Appling this means to order the code in elementary pieces implementig some basic functionality and paying attantion to a sensible function-classes hierarchy.\n",
    "\n",
    "14. **What is a static code analyzer, and why is it particularly useful for an interpreted language such as Python?** \\\n",
    "A static code analyzer is a tool that analyze source code without execute the code... (not finished)"
   ]
  }
 ],
 "metadata": {
  "kernelspec": {
   "display_name": "Python 3.10.7 64-bit",
   "language": "python",
   "name": "python3"
  },
  "language_info": {
   "codemirror_mode": {
    "name": "ipython",
    "version": 3
   },
   "file_extension": ".py",
   "mimetype": "text/x-python",
   "name": "python",
   "nbconvert_exporter": "python",
   "pygments_lexer": "ipython3",
   "version": "3.10.7"
  },
  "orig_nbformat": 4,
  "vscode": {
   "interpreter": {
    "hash": "107d7b120a5b68773a87d4067e673630b35702e55ebab3138143d08b1c4d7cbc"
   }
  }
 },
 "nbformat": 4,
 "nbformat_minor": 2
}
