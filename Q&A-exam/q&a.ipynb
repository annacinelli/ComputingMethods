{
 "cells": [
  {
   "cell_type": "markdown",
   "metadata": {},
   "source": [
    "### <font color=\"orange\">Questions and Answers for the *CMfEP&DA* course</font>"
   ]
  },
  {
   "cell_type": "markdown",
   "metadata": {},
   "source": []
  },
  {
   "cell_type": "markdown",
   "metadata": {},
   "source": [
    "#### <font color=\"aqua\">First Module</font>\n",
    "\n",
    "1. **What’s the difference between a centralized and a distributed version-control system?** $\\\\$\n",
    "   In a CVCS there is only one server containing the repository and a full history of all files, \n",
    "   while clients (or users) can only check out a working copy of the repository (update) and then \n",
    "   load the changes to the server (commit). Istead, in a DVCS every single user computer is a server \n",
    "   with a complete copy of the repository, fully mirroring all information in it and all file history. \n",
    "   In the latter case, updating and committing ivolve the local repository: the developer is more free \n",
    "   to make changes, he has less merging problems and he can work even offline. Then he can simply load \n",
    "   on to the original server (push) or download the latest version on his pc (pull)."
   ]
  },
  {
   "cell_type": "code",
   "execution_count": null,
   "metadata": {},
   "outputs": [],
   "source": [
    "# exemple of cell code in python\n",
    "import numpy as np"
   ]
  }
 ],
 "metadata": {
  "kernelspec": {
   "display_name": "Python 3.9.12 ('base')",
   "language": "python",
   "name": "python3"
  },
  "language_info": {
   "name": "python",
   "version": "3.9.12"
  },
  "orig_nbformat": 4,
  "vscode": {
   "interpreter": {
    "hash": "ad9e000ace8b4c39afbdcf83b61f0f239008d468236d6baabfb987e10afb94b8"
   }
  }
 },
 "nbformat": 4,
 "nbformat_minor": 2
}
