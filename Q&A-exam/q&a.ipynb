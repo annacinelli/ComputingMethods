{
 "cells": [
  {
   "cell_type": "markdown",
   "metadata": {},
   "source": [
    "### <font color=\"orange\">Questions and Answers for the *CMfEP&DA* course</font>\n",
    "\n",
    "<font color=\"coral\">Authors:$\\hspace{2mm}$*Anna Cinelli*,$\\hspace{2mm}$*Andrea Giorgione*</font>"
   ]
  },
  {
   "cell_type": "markdown",
   "metadata": {},
   "source": [
    "#### <font color=\"aqua\">First Module</font>\n",
    "\n",
    "1. **What’s the difference between a centralized and a distributed version-control system?** \\\n",
    "   In a CVCS there is only one server containing the repository and a full history of all files, \n",
    "   while clients (or users) can only check out a working copy of the repository (update) and then \n",
    "   load the changes to the server (commit). Istead, in a DVCS every single user computer is a server \n",
    "   with a complete copy of the repository, fully mirroring all information in it and all file history. \n",
    "   In the latter case, updating and committing involve the local repository: the developer is more free \n",
    "   to make changes, he has less merging problems and he can work even offline. Then he can simply load \n",
    "   on to the original server (push) or download the latest version on his pc (pull). \n",
    "\n",
    "2. **How do you characterize the complexity of an algorithm in big-O notation?** \\\n",
    "   Asymptotic behaviour follows three steps:\n",
    "   1. Try to figure out how many instructions does it take with a given input dimension.\n",
    "   2. Estimate the asymptotic behaviour.\n",
    "   3. Drop any the coefficients.\n",
    "   \n",
    "   In this way we are capable to find th cost of an algorithm.\n",
    "\n",
    "3. **What is a hash table and which purposes does it serve?** \\\n",
    "   An hash table, also kown as hash map, is a data structure (entity used for data organization, managment and storage) putting in corrispondence a key to a value. It is implemented through the hash function: it maps inputs in a fixed length output. It has to be deterministic, uniform in the output space (in order to avoid collisions and so differnt stuff giving the same output), fast to claculate and also hard to invert. That is particularly useful when we need to find the value linked to a particular key: without hashin, given a array of possible kyes matching the values positions in another array, we have to implement a serch algorithm in the keys array and then take the value corresonding in the other array. Instead, with an hash table we find the right value simply calculating a function. It is a tremendous save of time and it is useful for accessing quickly to a memory address or to navigate in direcion of a webste using an URL. In Python every immutable object (to modify them you have to create another object referring to another memory address) is hashable: strings, tuples and classes for example."
   ]
  },
  {
   "cell_type": "code",
   "execution_count": 3,
   "metadata": {},
   "outputs": [
    {
     "name": "stdout",
     "output_type": "stream",
     "text": [
      "3\n",
      "3\n",
      "7802117748582871278\n",
      "7068509671321486047\n"
     ]
    }
   ],
   "source": [
    "# exemples of hashing\n",
    "print(hash(3))\n",
    "print(hash(3.))\n",
    "print(hash('hello'))\n",
    "print(hash('Hello'))"
   ]
  },
  {
   "cell_type": "markdown",
   "metadata": {},
   "source": [
    "5. **Explain the meaning and the relation between the words 'object', 'class', 'instance', 'method', 'attribute', 'member' in the context of OOP.** \\\n",
    "   \\\n",
    "   OOP is a programming paradigm based on objects, it's often used for modeling systems that are naturally described in terms of ojects such as physical simulations or GUI.\n",
    "   - An <font color=\"coral\">object</font> is a code entity that has:\n",
    "       - a state -> data (called member variables or attributes)\n",
    "       - a behaviour -> functions (called member functions or methods) that     \n",
    "         manipulate the varibales that define the state of the object.\n",
    "     The idea of OOP is to keep them together. \n",
    "   - A <font color=\"coral\">class</font> is a blueprint, a scheme for creating objects\n",
    "     and an object is a \n",
    "     concrete realization of a class -> a class is like a project that is used to describe how objects are built and how they work and we can have multiple objects of the same class. \\\n",
    "     A class specifies how an object is made and how it behaves; object exemple: television that has a state and a behaviour.\n",
    "   - The state can be represented by some <font color=\"coral\">attributes</font>\n",
    "     (variables).\n",
    "   - The behaviour can be implemented through the <font color=\"coral\">methods</font>.\n",
    "   - Attributes and methods are collectively called <font color=\"coral\">members</font>\n",
    "     of the class.\n",
    "   - Each object of a specific class is an <font color=\"coral\">instance</font> of\n",
    "     that class. \n",
    "\n",
    "   Note: In Python everything is an object of some class! "
   ]
  },
  {
   "cell_type": "code",
   "execution_count": 4,
   "metadata": {},
   "outputs": [
    {
     "name": "stdout",
     "output_type": "stream",
     "text": [
      "<class 'int'>\n",
      "<class 'list'>\n"
     ]
    }
   ],
   "source": [
    "# exemple for an integer and a list (but we could also do it for a function\n",
    "# or a sring!)\n",
    "this_is_an_int = 5\n",
    "this_is_a_list = ['winnie', 'the', 'Pooh']\n",
    "\n",
    "print(type(this_is_an_int))\n",
    "print(type(this_is_a_list))"
   ]
  },
  {
   "cell_type": "markdown",
   "metadata": {},
   "source": [
    "   - How to implement them: \n",
    "       - The convention is to start class names with an uppercase and to define the\n",
    "         class we use <font color=\"coral\">**class (class_name):**</font>.\n",
    "       - To create instances we use the parenthesis operator <font \n",
    "         color=\"coral\">**class_name()**</font>, behind\n",
    "         the scenes we're calling a function and we see that the syntax is similar.\n",
    "       - All the class methods get the object instance as their first argument and\n",
    "         it is customary to call it <font color=\"coral\">**’self’** </font>. \n",
    "       - Class members are accessed through the <font color=\"coral\">**.member_name**\n",
    "         </font> (dot) operator and we must not pass also the 'self' argument as a  method argument because it's added automatically."
   ]
  },
  {
   "cell_type": "markdown",
   "metadata": {},
   "source": [
    "6. **What is the purpose of the class constructor?** \\\n",
    "\\\n",
    "As a useful exemple to explain the utility of the class constructor we can take the following: \\\n",
    "If we add an attribute manually with a simple assignment outside of the class, this attribute is not shared with other instances of the class (if we try to access to it we get an AttributeError because other instances haven't that attribute). \\\n",
    "Also, if we add an attribute from inside a class method again attributes are not shared this time in the sense that changing the attribute for one instance will not affect that attribute for other instances of that class. \\\n",
    "The <font color=\"coral\">constructor</font> is a special method that is called automatically each time a class instance is created:\n",
    "   - it cannot return anything\n",
    "   - in Python is the <font color=\"coral\">__init__</font> method (actually the real \n",
    "     constructor – that is the function responsible for creating the class\n",
    "     instances – is the **__new__** operator, but 99% of the time we don’t need to define that, as all classes have a default one which does the job for us); class methods with the name surronded by two underscores are called special methods or dunder methods.\n",
    "   - Remember: it's good practice to define all our class attributes inside the \n",
    "     constructor! (with <font color=\"coral\">**self.attribute_name**</font>, can be hard-coded or equal to the value of the corresponding argument)\n",
    "   - We can pass arguments to the constructor (<font color=\"coral\">**def __init__\n",
    "     (self, ...)**</font>) just like any other method (function); when we create an instance it has to get the value of these arguments (as we've seen we have not to write the 'self' argument)."
   ]
  },
  {
   "cell_type": "markdown",
   "metadata": {},
   "source": [
    "7. **Why is it useful to make some attributes private? How is it done in Python?** \\\n",
    "\\\n",
    "<font color=\"coral\">Concept of Encapsulation</font>: The state of an object should only be accessed and altered through its publicly exposed interface.\n",
    "   - Pros: it's easier to find bugs because if something is wrong with an object we know that\n",
    "     the problem lays inside the class code, and we can also enforce behaviour (for exemple we can prevent from changing the channel if the television is off).\n",
    "     \n",
    "da finire..."
   ]
  },
  {
   "cell_type": "markdown",
   "metadata": {},
   "source": [
    "8. **When should one prefer Composition over Inheritance and when the opposite?**\n",
    "- <font color=\"coral\">Inheritance</font>: A class can inherit from another one, \n",
    "  automatically obtaining all its functionalities (attributes and methods) and then extending or specializing them (it allows us to avoid duplicating our code, DRY):\n",
    "    - The class which we inherit from is called <font color=\"coral\">Base class,\n",
    "      Parent class or (in Python) Superclass</font>.\n",
    "    - The class inheriting is called <font color=\"coral\">Derived class or Child \n",
    "      class</font>.\n",
    "    - Inheritance is transitive!\n",
    "    - Syntax for the derived class definition: <font color=\"coral\">**class derived_class_name\n",
    "      (base_class_name)**</font>.\n",
    "    - Syntax for the call of the base class constructor in the derived class constructor: <font \n",
    "      color=\"coral\">**base_class_name.__init__(self,...values of the arguments of the base class constructor)**</font> (some of these can also be requested as arguments in the derived class constructor; for exemple the momentum in the exemple below to compute the energy of the particle).\n",
    "  \n",
    "  *exemple*: if we have a class Electron and one Positron and a class Proton, these classes have a lot of code in common (they all need to store their mass, charge, position, velocity (or momentum), possibly spin, ...) -> base class ’Particle’ and many specialized classes inheriting from it.\n",
    "\n",
    "    - Pay attention to: \n",
    "        - Overload: a method of the base class is overwritten by that of the derived class.\n",
    "        - Multiple Inheritance (for exemple class Television(AudioDevice, VideoDevice)) because\n",
    "          it can be difficult to control -> do not abuse it, the result could be much more complicated than we expected. use mro()\n",
    "\n",
    "- <font color=\"coral\">Composition</font>: use an object of some class as a member of \n",
    "  a different one.\n",
    "\n",
    "  *exemple*: the class Car will have a member of type Engine and four of type Wheel (Engine and\n",
    "  Wheel are classes that are defined before). \\\n",
    "  A class like Car is sometimes called an <font color=\"coral\">aggregate class</font>.\n",
    "   - Syntax: in the aggregated class constructor we write <font color=\"coral\">**self.engine = \n",
    "     Engine()**</font> and in this way we can reuse the Engine class functionalities.\n",
    "\n",
    "\\\n",
    "  <font color=\"coral\">So.... Composition or Inheritance?</font> \\\n",
    "  Composition models a <font color=\"coral\">'has a'</font> relation in the real world (a Car has a Engine), Inheritance models a <font color=\"coral\">'is a'</font> relation in the real world (an Electron is a Particle). \\\n",
    "  Attention to Inheritance (should a Square inherit from a Rectangle?): \\\n",
    "  <font color=\"coral\">Liskov Substitution Principle</font>: we should always be able to use a derived class instead of a base class in our code -> a derived class should always extend or specialize the functionalities of the base class, never restrict them!"
   ]
  },
  {
   "cell_type": "markdown",
   "metadata": {},
   "source": [
    "11. **What are the advantages (and disadvantages) of Exceptions compared to returning error codes?** \\\n",
    "    Exceptions are useful for cheching specifical problems or bugs in the code and returning meaningful and customizable error messages for the user. For example the line They are better than error codes beacuse the latter are hard to read and could anyway represent valid data for a successive piece of code or a valid input for a successive function. However, exceptions are not pefect becuse could detect only a selected kind of problem or indicate a given not satisfied condition, while error codes are useful for the analysis of a piece of code in every situation.\n",
    "\n",
    "12. **What is the main difference between Generators and Iterators?** \\\n",
    "    An iterator is an object that implement a \\_\\_next__ method which is used to retrieve elements one at the time in an iterable, i.e. an object that has a \\_\\_iter__ method returning the iterator. Instead, generators are object allowing to loop over sequences of items even when they don't exist before (lazy approach of creation when needed). So one is defined through a class, the second through an expression or a function.\n",
    "\n",
    "13. **What are the basic principles of unit testing, and what does \"continuous integration\" mean?** \\\n",
    "    The main idea of unit testing is to make sure that each single piece of code is correct by implementing a series of basic checks. Appling this means to order the code in elementary pieces implementig some basic functionality and paying attantion to a sensible function-classes hierarchy.\n",
    "\n",
    "14. **What is a static code analyzer, and why is it particularly useful for an interpreted language such as Python?** \\\n",
    "    A static code analyzer is a tool that analyze source code without execute the code... (not finished)"
   ]
  },
  {
   "attachments": {},
   "cell_type": "markdown",
   "metadata": {},
   "source": [
    "#### <font color=\"aqua\">Second Module</font>\n",
    "\n",
    "1. **What is Von Neumann architecture and what are its limits?** \\\n",
    "    Introduced by John Von Neumann, it is a computer architecture characterized by the presence of:\n",
    "    - A <font color=\"coral\">processing unit</font> for the execution of instruction.\n",
    "    - A <font color=\"coral\">control unit</font> fot the CPU managment.\n",
    "    - A <font color=\"coral\">memory</font>.\n",
    "    - A comunication <font color=\"coral\">bus</font>.\n",
    "    - A system for <font color=\"coral\">Input-Output (I/O)</font>.\n",
    "\n",
    "    The main problem in this kind of machine is the <font color=\"coral\">bus sharing</font> between instruction and data. There is a <font coloe=\"coral\">limited comunication</font> respect to memory dimension. This problem is known as the Von Neumann <font color=\"coral\">bottolneck</font>.\n",
    "\n",
    "2. **Which are the main mechanisms that implement instruction-level parallelism?** \\\n",
    "    The <font color=\"coral\">ILP</font> consists in the simultaneous execution of a sequence of instruction. The most common ways to implement it are:\n",
    "    - The usage of <font color=\"coral\">vector processors</font>, with actuation of a single instruction over different data <font color=\"coral\">(SIMD)</font>.\n",
    "    - The implementation of an architecture between pure scalar and vector called <font color=\"coral\">superscalar</font>. Several hardware units <font color=\"coral\">can execute different operation</font> on different data at the <font color=\"coral\">same time</font>. In this case there are a <font color=\"coral\">decoder</font> and a <font color=\"coral\">dispatcher</font> capable to manage more than one instruction per clock cycle, then processed by multiple <font color=\"coral\">funtional units</font> (components of a CPU). It is useful for <font color=\"coral\">barch prediction</font>, namely executing more segments in the code recovering the time loss of condition check.\n",
    "    - The usage of an <font color=\"coral\">instruction pipeline</font>, a sequence of different instruction partially overlapped during execution. The idea is to execute <font color=\"coral\">different satges</font> of the instructions during the <font color=\"coral\">same clock cycle</font>.\n",
    "\n",
    "3. **What are Dennard's scaling and Moore's scaling?** \\\n",
    "    The <font color=\"coral\">Dennard's scaling</font> states roughly that, as <font color=\"coral\">transistors get smaller</font>, their <font color=\"coral\">power density stays constant</font>, so that the power usage stays in proportion with area. Instead, the <font color=\"coral\">Moore ''law''</font> is the <font color=\"coral\">empirical observation</font> that the <font color=\"coral\">number of transistors doubles</font> about each <font color=\"coral\">two year</font>: \"the performance of microprocessors and the number of their transistors will double every 18 months\". Aroud respectively 2006 and 2005 there was the <font color=\"coral\">brackdown</font> of the two scaling. That's beacause with smaller and smaller components there is an increase in <font color=\"coral\">current leackage</font>, the <font color=\"coral\">switch speed</font> of the transtor between different states is <font color=\"coral\">no more linear</font> and also <font color=\"coral\">battery</font> and <font color=\"coral\">heat dissipation</font> are reaching their limits.\n",
    "\n",
    "4. **How does Flynn's taxonomy classify modern computer architectures?** \\\n",
    "    It defines a classification of computers architectures based on the number of <font color=\"coral\">data streams</font> and <font color=\"coral\">instructions streams</font>. The original categories are:\n",
    "    - Single Instruction Single Data (<font color=\"coral\">SISD</font>).\n",
    "    - Single Instruction Multiple Data (<font color=\"coral\">SIMD</font>).\n",
    "    - Multiple Instruction Single Data (<font color=\"coral\">MISD</font>).\n",
    "    - Multiple Instruction Multiple Data (<font color=\"coral\">MIMD</font>).\n",
    "\n",
    "5. **Describe the various types of concurrent computing** \\\n",
    "    There are 4 types of concurrent processing:\n",
    "    - <font color=\"coral\">Multiprogramming</font>: a <font color=\"coral\">single CPU</font> is shared among <font color=\"coral\">many users</font> or <font color=\"coral\">many tasks</font>. May have an algorithm determining the order of the task to run. It seems parallel thanks to fast swapping between tasks.\n",
    "    - <font color=\"coral\">Multiprocessing</font>: execute <font color=\"coral\">multiple tasks</font> at the same time with <font color=\"coral\">more users</font>. More processor can be used, or a single processor with time sharing between more tasks. <font color=\"coral\">Memory</font> is shared between the tasks of <font color=\"coral\">each user</font>.\n",
    "    - <font color=\"coral\">Multitasking</font>: a <font color=\"coral\">single user</font> with <font color=\"coral\">multiple tasks</font> using one or more processors. A <font color=\"coral\">different memory</font> for <font color=\"coral\">each task</font>.\n",
    "    - <font color=\"coral\">Distributed systems</font>: it consists in <font color=\"coral\">multiple computers</font> working together.\n",
    "\n",
    "6. **Which is the difference between concurrent computing and parallel computing?** \\\n",
    "    <font color=\"coral\">Concurrency</font> is the execution of <font color=\"coral\">multiple tasks</font> at the same time, regardless of the number of processors. Instead, <font color=\"coral\">parallelism</font> is the execution on <font color=\"coral\">multiple processors</font> on the <font color=\"coral\">same task</font>.\n",
    "\n",
    "7. **The limits of parallelism: Amdahl's law and Gustafson's law** \\\n",
    "    The <font color=\"coral\">Amdhal’s law</font> gives the <font color=\"coral\">theoretical speedup</font> for a task with <font color=\"coral\">fixed workload</font> for a system with impoved resources. It says that \"the overall performance improvement gained by optimizing a single part of a system is limited by the fraction of time that the improved part is actually used\". In matematical terms, with $F$ the fraction of code that cannot be parallelized and $n$ the number of processors:\n",
    "    $ S_n = {n \\over {nF + (1 - F)}} $. \n",
    "    In general if some parts $P_k$ of the code are improved, then the best is:\n",
    "    $ S = {(\\sum {P_k \\over S_k})^{-1}} $.\n",
    "    With the formula form $S_n$ it seem that parallelism helps only in <font color=\"coral\">highly parallelizable problems</font>. In fact the maximum for $n \\rightarrow +\\infty$ is simply $1 / F$. But there are some <font color=\"coral\">restriction</font> of Amdahl's law:\n",
    "    - Amdahl assumes that the <font color=\"coral\">best solution</font> is always the best <font color=\"coral\">serial algorithm</font>.\n",
    "    - Amdahl doesn't take in cunt that some <font color=\"coral\">architectural design can help</font> parallel processing (for instance the caching).\n",
    "    - Amdahl assumes that the <font color=\"coral\">dimension of the problem is always the same</font> with the increasing of the number of processors. But more processors often means that wider problem can be addressed.\n",
    "\n",
    "    Instead, the <font color=\"coral\">Gustafson's law</font> assumes that the <font color=\"coral\">problem scales</font> as the number of processors, with always the same serial part. With this assumptions the speedup is:\n",
    "    $ S_n = {n + (1 - n)F} $.\n",
    "    Now the <font color=\"coral\">gain is linear</font> in $n$.\n",
    "\n",
    "8. **Ways to avoid conflicts between threads: Mutex and Semaphores** \\\n",
    "    The <font color=\"coral\">mutex</font> (mutual exclusion) is a <font color=\"coral\">locking mechanism</font>, or better a <font color=\"coral\">synchronization method</font> between threads, preventing conflicts in the <font color=\"coral\">memory accesses</font> of different tasks. It is an <font color=\"coral\">object acquired</font> by a task and only when <font color=\"coral\">released</font> another task can continue. <font color=\"coral\">Semaphores</font> are instead a <font color=\"coral\">signal mechanism</font>, where specific <font color=\"coral\">treads are activated</font> through a interrupt signals routing issued by a <font color=\"coral\">manager</font>.\n",
    "\n",
    "9. **How does the GIL mechanism work in Python?** \\\n",
    "    The <font color=\"coral\">Global Interpreter Lock</font> is (maybe) a mutex thta allows <font color=\"coral\">only one thread</font> to hold the control of <font color=\"coral\">Python interpreter</font>. This means that only one thread can be in state of execution at any point in time. Current thread holds the lock to safely access <font color=\"coral\">Python objects</font>. The interpreter <font color=\"coral\">regularly releases and reacquires</font> the lock every <font color=\"coral\">100 bytecode of instructions</font>.\n",
    "\n",
    "10. **What is the difference between threads and processes in Python?** \\\n",
    "    A <font color=\"coral\">process</font> is an <font color=\"coral\">istance of a program</font> and a <font color=\"coral\">thread</font> is a <font color=\"coral\">sub-process</font>. Differences:\n",
    "    - <font color=\"coral\">Processes</font> are managed by operating system and <font color=\"coral\">can run simultaneously</font>, while <font color=\"coral\">threads</font> are executed one at time due to <font color=\"coral\">GIL</font>.\n",
    "    - <font color=\"coral\">Processes</font> have <font color=\"coral\">differnt memory spaces</font>, while <font color=\"coral\">threads</font> share the <font color=\"coral\">same memory</font>. So threads are faster in sharing data.\n",
    "    - <font color=\"coral\">Processes</font> have <font color=\"coral\">larger overhead</font> (operation or time in which the program is not directy executed) respect to <font color=\"coral\">threads</font>.\n",
    "    - <font color=\"coral\">Processes</font> are <font color=\"coral\">killable</font>, <font color=\"coral\">not threads</font>.\n",
    "    - <font color=\"coral\">Processes</font> are useful for <font color=\"coral\">heavy computational task</font> with <font color=\"coral\">multiple CPU</font> and <font color=\"coral\">threads</font> are more useful for <font color=\"coral\">I/O operation</font>.\n",
    "\n",
    "11. **What are GPUs and why do they allow to overcome the power wall problem?** \\\n",
    "    The GPUs are <font color=\"coral\">processors</font> dedicated to <font color=\"coral\">parallel programming for graphical application</font>. They help because if computer <font color=\"coral\">can't go faster</font> they <font color=\"coral\">can go wider</font>. The main characteristics is the presence of <font color=\"coral\">a lot of cores</font>. Each of them are actually slower than the CPU case, but the important part are the <font color=\"coral\">Flops</font> (or better the number of operation).\n",
    "\n",
    "12. **How do CPU and GPU differ?** \\\n",
    "    In a <font color=\"coral\">CPU</font> there are <font color=\"coral\">few ALU</font>, a <font color=\"coral\">large control</font> and a <font color=\"coral\">large</font> caches: this architecture is ideal for <font color=\"coral\">Instruction Level Parallelism</font>. Instead, in a <font color=\"coral\">GPU</font> there are <font color=\"coral\">many cores</font> with <font color=\"coral\">limited caching</font> for speed in memory access and a <font color=\"coral\">small control</font> part: useful for <font color=\"coral\">Thread Level Parallelism</font>. In the case of <font color=\"coral\">CPU</font> there is the possibility of <font color=\"coral\">branch prediction</font> (guessing the outcome of a conditional operation and prepare for the most likely result), instead in the case of <font color=\"coral\">GPU</font> we have <font color=\"coral\">branch predication</font> (executing certain instructions if certain predicates are true) and the framework of <font color=\"coral\">Single Instruction Multiple Trheads</font>.\n",
    "\n",
    "13. **What is the SIMT / SIMD architecture?** \\\n",
    "    It is the architecture used in the <font color=\"coral\">GPUs</font>, in wich there are <font color=\"coral\">multiple processing elements</font> that perform the <font color=\"coral\">same operation</font> on multiple data points <font color=\"coral\">simultaneously</font>. (altro?)\n",
    "\n",
    "14. **How is CUDA programming structured?** \\\n",
    "    Cuda is a set of <font color=\"coral\">C/C++ extensions</font> to enable the GPU computing on <font color=\"coral\">NVIDIA GPUs</font>. It is an <font color=\"coral\">API</font> (inteface for the comunication between different components in the same computer or different machines) controlling the <font color=\"coral\">GPU behaviour</font>. The Cuda programming is organized in three steps;\n",
    "    - <font color=\"coral\">Copy data</font> from <font color=\"coral\">host</font> (refers CPU and its memory) to <font color=\"coral\">device</font> (resfres to Gpu and its memory).\n",
    "    - <font color=\"coral\">Copy</font> the <font color=\"coral\">kernel</font> (a C/C++ script containing a function starting the \\_\\_global__ declaration with he specification of operations and threads) and <font color=\"coral\">execute</font> it.\n",
    "    - <font color=\"coral\">Copy back</font> the results.\n",
    "\n",
    "15. **What is meant by coalescent memory access?** \\\n",
    "    It means <font color=\"coral\">accessing</font> an entire <font color=\"coral\">section of memory</font> and not a single location at one time. Each section called <font color=\"coral\">burst</font> is passed to the processor. It is particulary useful when more threads run the same operation over data in consecutive memory locations in the global memory.\n",
    "\n",
    "16. **Describe the main methods for using GPUs in Python with PyCuda** \\\n",
    "    There are <font color=\"coral\">three methods</font> to use PyCuda:\n",
    "    - The <font color=\"coral\">simple one</font> is to organize the data in <font color=\"coral\">GPU arrays</font> and simply use the <font color=\"coral\">operation symbol</font> (easy case) to perform the instruction (the kernel is inside PyCuda). Low performances.\n",
    "    - The <font color=\"coral\">medium method</font> is to use the <font color=\"coral\">elementwise method</font>. The <font color=\"coral\">istances</font> of the class <font color=\"coral\">ElementwiseKernel</font> define a <font color=\"coral\">callable kernel</font>. Only <font color=\"coral\">single line instruction</font> can be used and the performances are not at the best.\n",
    "    - The <font color=\"coral\">hard one</font> is to use to use <font color=\"coral\">SourceModule</font>. It allows to define ad use a <font color=\"coral\">personalized generic kenel</font>. Top performances\n",
    "    \n",
    "    In every case data (vectors) must be previously copied on the GPU."
   ]
  }
 ],
 "metadata": {
  "kernelspec": {
   "display_name": "Python 3",
   "language": "python",
   "name": "python3"
  },
  "language_info": {
   "codemirror_mode": {
    "name": "ipython",
    "version": 3
   },
   "file_extension": ".py",
   "mimetype": "text/x-python",
   "name": "python",
   "nbconvert_exporter": "python",
   "pygments_lexer": "ipython3",
   "version": "3.10.7"
  },
  "orig_nbformat": 4,
  "vscode": {
   "interpreter": {
    "hash": "107d7b120a5b68773a87d4067e673630b35702e55ebab3138143d08b1c4d7cbc"
   }
  }
 },
 "nbformat": 4,
 "nbformat_minor": 2
}
