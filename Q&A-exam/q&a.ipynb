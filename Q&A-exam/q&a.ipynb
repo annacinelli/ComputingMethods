{
 "cells": [
  {
   "cell_type": "markdown",
   "metadata": {},
   "source": [
    "### <font color=\"orange\">Questions and Answers for the *CMfEP&DA* course</font>\n",
    "\n",
    "<font color=\"coral\">Authors:$\\hspace{2mm}$*Anna Cinelli*,$\\hspace{2mm}$*Andrea Giorgione*</font>"
   ]
  },
  {
   "cell_type": "markdown",
   "metadata": {},
   "source": [
    "#### <font color=\"aqua\">First Module</font>\n",
    "\n",
    "1. **What’s the difference between a centralized and a distributed version-control system?** \\\n",
    "   In a CVCS there is only one server containing the repository and a full history of all files, \n",
    "   while clients (or users) can only check out a working copy of the repository (update) and then \n",
    "   load the changes to the server (commit). Istead, in a DVCS every single user computer is a server \n",
    "   with a complete copy of the repository, fully mirroring all information in it and all file history. \n",
    "   In the latter case, updating and committing involve the local repository: the developer is more free \n",
    "   to make changes, he has less merging problems and he can work even offline. Then he can simply load \n",
    "   on to the original server (push) or download the latest version on his pc (pull). \n",
    "\n",
    "2. **How do you characterize the complexity of an algorithm in big-O notation?** \\\n",
    "   Asymptotic behaviour follows three steps:\n",
    "   1. Try to figure out how many instructions does it take with a given input dimension.\n",
    "   2. Estimate the asymptotic behaviour.\n",
    "   3. Drop any the coefficients.\n",
    "   \n",
    "   In this way we are capable to find th cost of an algorithm.\n",
    "\n",
    "3. **What is a hash table and which purposes does it serve?** \\\n",
    "   An hash table, also kown as hash map, is a data structure (entity used for data organization, managment and storage) putting in corrispondence a key to a value. It is implemented through the hash function: it maps inputs in a fixed length output. It has to be deterministic, uniform in the output space (in order to avoid collisions and so differnt stuff giving the same output), fast to claculate and also hard to invert. That is particularly useful when we need to find the value linked to a particular key: without hashin, given a array of possible kyes matching the values positions in another array, we have to implement a serch algorithm in the keys array and then take the value corresonding in the other array. Instead, with an hash table we find the right value simply calculating a function. It is a tremendous save of time and it is useful for accessing quickly to a memory address or to navigate in direcion of a webste using an URL. In Python every immutable object (to modify them you have to create another object referring to another memory address) is hashable: strings, tuples and classes for example."
   ]
  },
  {
   "cell_type": "code",
   "execution_count": 3,
   "metadata": {},
   "outputs": [
    {
     "name": "stdout",
     "output_type": "stream",
     "text": [
      "3\n",
      "3\n",
      "7802117748582871278\n",
      "7068509671321486047\n"
     ]
    }
   ],
   "source": [
    "# exemples of hashing\n",
    "print(hash(3))\n",
    "print(hash(3.))\n",
    "print(hash('hello'))\n",
    "print(hash('Hello'))"
   ]
  },
  {
   "cell_type": "markdown",
   "metadata": {},
   "source": [
    "5. **Explain the meaning and the relation between the words 'object', 'class', 'instance', 'method', 'attribute', 'member' in the context of OOP.** \\\n",
    "   \\\n",
    "   OOP is a programming paradigm based on objects, it's often used for modeling systems that are naturally described in terms of ojects such as physical simulations or GUI.\n",
    "   - An <font color=\"coral\">object</font> is a code entity that has:\n",
    "       - a state -> data (called member variables or attributes)\n",
    "       - a behaviour -> functions (called member functions or methods) that     \n",
    "         manipulate the varibales that define the state of the object.\n",
    "     The idea of OOP is to keep them together. \n",
    "   - A <font color=\"coral\">class</font> is a blueprint, a scheme for creating objects\n",
    "     and an object is a \n",
    "     concrete realization of a class -> a class is like a project that is used to describe how objects are built and how they work and we can have multiple objects of the same class. \\\n",
    "     A class specifies how an object is made and how it behaves; object exemple: television that has a state and a behaviour.\n",
    "   - The state can be represented by some <font color=\"coral\">attributes</font>\n",
    "     (variables).\n",
    "   - The behaviour can be implemented through the <font color=\"coral\">methods</font>.\n",
    "   - Attributes and methods are collectively called <font color=\"coral\">members</font>\n",
    "     of the class.\n",
    "   - Each object of a specific class is an <font color=\"coral\">instance</font> of\n",
    "     that class. \n",
    "\n",
    "   Note: In Python everything is an object of some class! "
   ]
  },
  {
   "cell_type": "code",
   "execution_count": 4,
   "metadata": {},
   "outputs": [
    {
     "name": "stdout",
     "output_type": "stream",
     "text": [
      "<class 'int'>\n",
      "<class 'list'>\n"
     ]
    }
   ],
   "source": [
    "# exemple for an integer and a list (but we could also do it for a function\n",
    "# or a sring!)\n",
    "this_is_an_int = 5\n",
    "this_is_a_list = ['winnie', 'the', 'Pooh']\n",
    "\n",
    "print(type(this_is_an_int))\n",
    "print(type(this_is_a_list))"
   ]
  },
  {
   "cell_type": "markdown",
   "metadata": {},
   "source": [
    "   - How to implement them: \n",
    "       - The convention is to start class names with an uppercase and to define the\n",
    "         class we use <font color=\"coral\">**class (class_name):**</font>.\n",
    "       - To create instances we use the parenthesis operator <font \n",
    "         color=\"coral\">**class_name()**</font>, behind\n",
    "         the scenes we're calling a function and we see that the syntax is similar.\n",
    "       - All the class methods get the object instance as their first argument and\n",
    "         it is customary to call it <font color=\"coral\">**’self’** </font>. \n",
    "       - Class members are accessed through the <font color=\"coral\">**.member_name**\n",
    "         </font> (dot) operator and we must not pass also the 'self' argument as a  method argument because it's added automatically."
   ]
  },
  {
   "cell_type": "markdown",
   "metadata": {},
   "source": [
    "6. **What is the purpose of the class constructor?** \\\n",
    "\\\n",
    "As a useful exemple to explain the utility of the class constructor we can take the following: \\\n",
    "If we add an attribute manually with a simple assignment outside of the class, this attribute is not shared with other instances of the class (if we try to access to it we get an AttributeError because other instances haven't that attribute). \\\n",
    "Also, if we add an attribute from inside a class method again attributes are not shared this time in the sense that changing the attribute for one instance will not affect that attribute for other instances of that class. \\\n",
    "The <font color=\"coral\">constructor</font> is a special method that is called automatically each time a class instance is created:\n",
    "   - it cannot return anything\n",
    "   - in Python is the <font color=\"coral\">__init__</font> method (actually the real \n",
    "     constructor – that is the function responsible for creating the class\n",
    "     instances – is the **__new__** operator, but 99% of the time we don’t need to define that, as all classes have a default one which does the job for us); class methods with the name surronded by two underscores are called special methods or dunder methods.\n",
    "   - Remember: it's good practice to define all our class attributes inside the \n",
    "     constructor! (with <font color=\"coral\">**self.attribute_name**</font>, can be hard-coded or equal to the value of the corresponding argument)\n",
    "   - We can pass arguments to the constructor (<font color=\"coral\">**def __init__\n",
    "     (self, ...)**</font>) just like any other method (function); when we create an instance it has to get the value of these arguments (as we've seen we have not to write the 'self' argument)."
   ]
  },
  {
   "cell_type": "markdown",
   "metadata": {},
   "source": [
    "7. **Why is it useful to make some attributes private? How is it done in Python?** \\\n",
    "\\\n",
    "<font color=\"coral\">Concept of Encapsulation</font>: The state of an object should only be accessed and altered through its publicly exposed interface.\n",
    "   - Pros: it's easier to find bugs because if something is wrong with an object we know that\n",
    "     the problem lays inside the class code, and we can also enforce behaviour (for exemple we can prevent from changing the channel if the television is off).\n",
    "     \n",
    "da finire..."
   ]
  },
  {
   "cell_type": "markdown",
   "metadata": {},
   "source": [
    "8. **When should one prefer Composition over Inheritance and when the opposite?**\n",
    "- <font color=\"coral\">Inheritance</font>: A class can inherit from another one, \n",
    "  automatically obtaining all its functionalities (attributes and methods) and then extending or specializing them (it allows us to avoid duplicating our code, DRY):\n",
    "    - The class which we inherit from is called <font color=\"coral\">Base class,\n",
    "      Parent class or (in Python) Superclass</font>.\n",
    "    - The class inheriting is called <font color=\"coral\">Derived class or Child \n",
    "      class</font>.\n",
    "    - Inheritance is transitive!\n",
    "    - Syntax for the derived class definition: <font color=\"coral\">**class derived_class_name\n",
    "      (base_class_name)**</font>.\n",
    "    - Syntax for the call of the base class constructor in the derived class constructor: <font \n",
    "      color=\"coral\">**base_class_name.__init__(self,...values of the arguments of the base class constructor)**</font> (some of these can also be requested as arguments in the derived class constructor; for exemple the momentum in the exemple below to compute the energy of the particle).\n",
    "  \n",
    "  *exemple*: if we have a class Electron and one Positron and a class Proton, these classes have a lot of code in common (they all need to store their mass, charge, position, velocity (or momentum), possibly spin, ...) -> base class ’Particle’ and many specialized classes inheriting from it.\n",
    "\n",
    "    - Pay attention to: \n",
    "        - Overload: a method of the base class is overwritten by that of the derived class.\n",
    "        - Multiple Inheritance (for exemple class Television(AudioDevice, VideoDevice)) because\n",
    "          it can be difficult to control -> do not abuse it, the result could be much more complicated than we expected. use mro()\n",
    "\n",
    "- <font color=\"coral\">Composition</font>: use an object of some class as a member of \n",
    "  a different one.\n",
    "\n",
    "  *exemple*: the class Car will have a member of type Engine and four of type Wheel (Engine and\n",
    "  Wheel are classes that are defined before). \\\n",
    "  A class like Car is sometimes called an <font color=\"coral\">aggregate class</font>.\n",
    "   - Syntax: in the aggregated class constructor we write <font color=\"coral\">**self.engine = \n",
    "     Engine()**</font> and in this way we can reuse the Engine class functionalities.\n",
    "\n",
    "\\\n",
    "  <font color=\"coral\">So.... Composition or Inheritance?</font> \\\n",
    "  Composition models a <font color=\"coral\">'has a'</font> relation in the real world (a Car has a Engine), Inheritance models a <font color=\"coral\">'is a'</font> relation in the real world (an Electron is a Particle). \\\n",
    "  Attention to Inheritance (should a Square inherit from a Rectangle?): \\\n",
    "  <font color=\"coral\">Liskov Substitution Principle</font>: we should always be able to use a derived class instead of a base class in our code -> a derived class should always extend or specialize the functionalities of the base class, never restrict them!"
   ]
  },
  {
   "cell_type": "markdown",
   "metadata": {},
   "source": [
    "11. **What are the advantages (and disadvantages) of Exceptions compared to returning error codes?** \\\n",
    "    Exceptions are useful for cheching specifical problems or bugs in the code and returning meaningful and customizable error messages for the user. For example the line They are better than error codes beacuse the latter are hard to read and could anyway represent valid data for a successive piece of code or a valid input for a successive function. However, exceptions are not pefect becuse could detect only a selected kind of problem or indicate a given not satisfied condition, while error codes are useful for the analysis of a piece of code in every situation.\n",
    "\n",
    "12. **What is the main difference between Generators and Iterators?** \\\n",
    "    An iterator is an object that implement a \\_\\_next__ method which is used to retrieve elements one at the time in an iterable, i.e. an object that has a \\_\\_iter__ method returning the iterator. Instead, generators are object allowing to loop over sequences of items even when they don't exist before (lazy approach of creation when needed). So one is defined through a class, the second through an expression or a function.\n",
    "\n",
    "13. **What are the basic principles of unit testing, and what does \"continuous integration\" mean?** \\\n",
    "    The main idea of unit testing is to make sure that each single piece of code is correct by implementing a series of basic checks. Appling this means to order the code in elementary pieces implementig some basic functionality and paying attantion to a sensible function-classes hierarchy.\n",
    "\n",
    "14. **What is a static code analyzer, and why is it particularly useful for an interpreted language such as Python?** \\\n",
    "    A static code analyzer is a tool that analyze source code without execute the code... (not finished)"
   ]
  }
 ],
 "metadata": {
  "kernelspec": {
   "display_name": "Python 3.9.12 ('base')",
   "language": "python",
   "name": "python3"
  },
  "language_info": {
   "codemirror_mode": {
    "name": "ipython",
    "version": 3
   },
   "file_extension": ".py",
   "mimetype": "text/x-python",
   "name": "python",
   "nbconvert_exporter": "python",
   "pygments_lexer": "ipython3",
   "version": "3.9.12"
  },
  "orig_nbformat": 4,
  "vscode": {
   "interpreter": {
    "hash": "ad9e000ace8b4c39afbdcf83b61f0f239008d468236d6baabfb987e10afb94b8"
   }
  }
 },
 "nbformat": 4,
 "nbformat_minor": 2
}
